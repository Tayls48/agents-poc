{
 "cells": [
  {
   "cell_type": "code",
   "execution_count": 1,
   "id": "a2d9ece4-bbd3-4f25-b8bd-5b990ee72d3d",
   "metadata": {},
   "outputs": [],
   "source": [
    "# This notebook is a testing ground for building OpenAI Agents. "
   ]
  },
  {
   "cell_type": "code",
   "execution_count": 2,
   "id": "da1fbfe6-1aa7-4fd6-a0e6-330a402c7892",
   "metadata": {},
   "outputs": [],
   "source": [
    "# Jupyter notebooks spin up an asyncio loop, so the below code makes sure OpenAI's run_sync function works. \n",
    "import nest_asyncio\n",
    "nest_asyncio.apply()"
   ]
  },
  {
   "cell_type": "code",
   "execution_count": 3,
   "id": "d0e6ab84-8ed4-4169-976b-5a017c7dace5",
   "metadata": {},
   "outputs": [],
   "source": [
    "import json\n",
    "from agents import Agent, Runner, GuardrailFunctionOutput\n",
    "from prompts import (KLIRO_PROMPT, INHERITANCE_RISK_AGENT_PROMPT, EXECUTOR_RISK_AGENT_PROMPT)\n",
    "from guardrails import PIIOutput, PII_GUARDRAIL_AGENT, pii_guardrail"
   ]
  },
  {
   "cell_type": "code",
   "execution_count": 4,
   "id": "84dacb85-650b-4b08-9dd3-5017f228eb3a",
   "metadata": {},
   "outputs": [],
   "source": [
    "# Create the specialist agents first so that the main Kliro agent can \"see\" these agents in its handoffs\n",
    "inheritance_risk_agent = Agent(\n",
    "    name=\"Inheritance Risk Agent\",\n",
    "    handoff_description=\"Calculates the total estate value and breakdown of costs at risk\",\n",
    "    instructions=INHERITANCE_RISK_AGENT_PROMPT\n",
    ")\n",
    "\n",
    "executor_risk_agent = Agent(\n",
    "    name=\"Executor Risk Agent\",\n",
    "    handoff_description=\"Estimates time, effort, and risk level for estate settlement\",\n",
    "    instructions=EXECUTOR_RISK_AGENT_PROMPT\n",
    ")"
   ]
  },
  {
   "cell_type": "code",
   "execution_count": 5,
   "id": "3f54ed3d-d4a9-4df1-9077-061797198677",
   "metadata": {},
   "outputs": [],
   "source": [
    "# Then create our main Kliro Agent that will speak with the user and delegate to our specialist agents\n",
    "kliro_agent = Agent(\n",
    "    name=\"Kliro Agent\", \n",
    "    instructions=KLIRO_PROMPT,\n",
    "    handoff_description=\"Master orchestrator guiding the inheritance conversation\",\n",
    "    handoffs=[\n",
    "      inheritance_risk_agent, \n",
    "      executor_risk_agent,\n",
    "      # later: action_plan_agent, estate_map_agent, etc.\n",
    "    ], \n",
    "    input_guardrails=[pii_guardrail]\n",
    ")"
   ]
  },
  {
   "cell_type": "code",
   "execution_count": 8,
   "id": "91961681-7d7c-466c-95dd-e55b445a3e23",
   "metadata": {},
   "outputs": [],
   "source": [
    "async def main():\n",
    "    # ——— Test 1: simple greeting ———\n",
    "    greet = await Runner.run(kliro_agent, \"Hi Kliro!\")\n",
    "    print(\"=== Greeting ===\")\n",
    "    print(greet.final_output, \"\\n\")\n",
    "\n",
    "    # ——— Test 2: trigger Inheritance Risk Agent ———\n",
    "    assets = [\n",
    "        {\"name\": \"Home\",        \"type\": \"real_estate\", \"value\": 500000},\n",
    "        {\"name\": \"Investments\", \"type\": \"securities\",  \"value\": 200000}\n",
    "    ]\n",
    "    prompt_risk = (\n",
    "        \"Here are my parents' assets: \" + json.dumps(assets) +\n",
    "        \". Please calculate the inheritance risk.\"\n",
    "    )\n",
    "    risk = await Runner.run(kliro_agent, prompt_risk)\n",
    "    print(\"=== Inheritance Risk ===\")\n",
    "    print(risk.final_output, \"\\n\")\n",
    "\n",
    "    # ——— Test 3: trigger Executor Risk Agent ———\n",
    "    executor_info = {\n",
    "        \"total_value\": 700000,\n",
    "        \"executor_experience\": \"medium\",\n",
    "        \"estate_complexity\": \"high\",\n",
    "        \"family_dynamics\": \"contentious\"\n",
    "    }\n",
    "    prompt_exec = (\n",
    "        \"Given this executor context: \" + json.dumps(executor_info) +\n",
    "        \", please estimate the settlement timeline and executor risk.\"\n",
    "    )\n",
    "    exec_res = await Runner.run(kliro_agent, prompt_exec)\n",
    "    print(\"=== Executor Risk ===\")\n",
    "    print(exec_res.final_output)\n",
    "\n",
    "\n",
    "    # ——— Test 4: trigger PII guardrail ———\n",
    "    pii_input = \"Here is my SSN: 123-45-6789 and my credit card 4111 1111 1111 1111\"\n",
    "    guard_res = await Runner.run(kliro_agent, pii_input)\n",
    "    print(\"=== PII Guardrail ===\")\n",
    "    # guard_res is an InputGuardrailResult, so the parsed output is in .output_info\n",
    "    print(guard_res.output_info.json(), \"\\n\")"
   ]
  },
  {
   "cell_type": "code",
   "execution_count": 9,
   "id": "d850521f-df5f-4589-bd6c-0f5f1712b573",
   "metadata": {},
   "outputs": [
    {
     "name": "stdout",
     "output_type": "stream",
     "text": [
      "=== Greeting ===\n",
      "Hi! I'm Kliro, your AI assistant to help you manage your inheritance. Let's start off with a few basic questions.\n",
      "\n",
      "- Can you tell me about your family dynamic? Where do your parents live? Are they still together, or are they divorced? \n",
      "- Where about do you live? \n",
      "- Do you have any siblings? Please share any information about them that will give me a comprehensive overview of your family dynamic!\n",
      "\n",
      "If your parents are divorced, note that I can only focus on one estate at a time, so let me know which one you want to concentrate on. \n",
      "\n",
      "=== Inheritance Risk ===\n",
      "{\n",
      "    \"total_value\": 700000,\n",
      "    \"breakdown\": {\n",
      "        \"probate_cost\": 10500.0,\n",
      "        \"capital_gains_tax\": 175000.0,\n",
      "        \"other_fees\": 1000\n",
      "    },\n",
      "    \"value_at_risk\": 186500.0\n",
      "}\n",
      "\n",
      "Your estate is $700,000. Probate fees $10,500; capital gains tax $175,000; other fees $1,000—total $186,500 at risk. \n",
      "\n",
      "=== Executor Risk ===\n",
      "```json\n",
      "{\n",
      "  \"settlement_time_months\": 12,\n",
      "  \"effort_hours\": 120,\n",
      "  \"executor_risk\": \"high\"\n",
      "}\n",
      "```\n",
      "Estimated settlement: 12 months (~120 hours). Executor risk: high.\n"
     ]
    },
    {
     "ename": "InputGuardrailTripwireTriggered",
     "evalue": "Guardrail InputGuardrail triggered tripwire",
     "output_type": "error",
     "traceback": [
      "\u001b[31m---------------------------------------------------------------------------\u001b[39m",
      "\u001b[31mInputGuardrailTripwireTriggered\u001b[39m           Traceback (most recent call last)",
      "\u001b[36mCell\u001b[39m\u001b[36m \u001b[39m\u001b[32mIn[9]\u001b[39m\u001b[32m, line 1\u001b[39m\n\u001b[32m----> \u001b[39m\u001b[32m1\u001b[39m \u001b[38;5;28;01mawait\u001b[39;00m main()\n",
      "\u001b[36mCell\u001b[39m\u001b[36m \u001b[39m\u001b[32mIn[8]\u001b[39m\u001b[32m, line 38\u001b[39m, in \u001b[36mmain\u001b[39m\u001b[34m()\u001b[39m\n\u001b[32m     36\u001b[39m \u001b[38;5;66;03m# ——— Test 4: trigger PII guardrail ———\u001b[39;00m\n\u001b[32m     37\u001b[39m pii_input = \u001b[33m\"\u001b[39m\u001b[33mHere is my SSN: 123-45-6789 and my credit card 4111 1111 1111 1111\u001b[39m\u001b[33m\"\u001b[39m\n\u001b[32m---> \u001b[39m\u001b[32m38\u001b[39m guard_res = \u001b[38;5;28;01mawait\u001b[39;00m Runner.run(kliro_agent, pii_input)\n\u001b[32m     39\u001b[39m \u001b[38;5;28mprint\u001b[39m(\u001b[33m\"\u001b[39m\u001b[33m=== PII Guardrail ===\u001b[39m\u001b[33m\"\u001b[39m)\n\u001b[32m     40\u001b[39m \u001b[38;5;66;03m# guard_res is an InputGuardrailResult, so the parsed output is in .output_info\u001b[39;00m\n",
      "\u001b[36mFile \u001b[39m\u001b[32m~/Documents/GitHub/agents-poc/venv/lib/python3.11/site-packages/agents/run.py:218\u001b[39m, in \u001b[36mRunner.run\u001b[39m\u001b[34m(cls, starting_agent, input, context, max_turns, hooks, run_config, previous_response_id)\u001b[39m\n\u001b[32m    213\u001b[39m logger.debug(\n\u001b[32m    214\u001b[39m     \u001b[33mf\u001b[39m\u001b[33m\"\u001b[39m\u001b[33mRunning agent \u001b[39m\u001b[38;5;132;01m{\u001b[39;00mcurrent_agent.name\u001b[38;5;132;01m}\u001b[39;00m\u001b[33m (turn \u001b[39m\u001b[38;5;132;01m{\u001b[39;00mcurrent_turn\u001b[38;5;132;01m}\u001b[39;00m\u001b[33m)\u001b[39m\u001b[33m\"\u001b[39m,\n\u001b[32m    215\u001b[39m )\n\u001b[32m    217\u001b[39m \u001b[38;5;28;01mif\u001b[39;00m current_turn == \u001b[32m1\u001b[39m:\n\u001b[32m--> \u001b[39m\u001b[32m218\u001b[39m     input_guardrail_results, turn_result = \u001b[38;5;28;01mawait\u001b[39;00m asyncio.gather(\n\u001b[32m    219\u001b[39m         \u001b[38;5;28mcls\u001b[39m._run_input_guardrails(\n\u001b[32m    220\u001b[39m             starting_agent,\n\u001b[32m    221\u001b[39m             starting_agent.input_guardrails\n\u001b[32m    222\u001b[39m             + (run_config.input_guardrails \u001b[38;5;129;01mor\u001b[39;00m []),\n\u001b[32m    223\u001b[39m             copy.deepcopy(\u001b[38;5;28minput\u001b[39m),\n\u001b[32m    224\u001b[39m             context_wrapper,\n\u001b[32m    225\u001b[39m         ),\n\u001b[32m    226\u001b[39m         \u001b[38;5;28mcls\u001b[39m._run_single_turn(\n\u001b[32m    227\u001b[39m             agent=current_agent,\n\u001b[32m    228\u001b[39m             all_tools=all_tools,\n\u001b[32m    229\u001b[39m             original_input=original_input,\n\u001b[32m    230\u001b[39m             generated_items=generated_items,\n\u001b[32m    231\u001b[39m             hooks=hooks,\n\u001b[32m    232\u001b[39m             context_wrapper=context_wrapper,\n\u001b[32m    233\u001b[39m             run_config=run_config,\n\u001b[32m    234\u001b[39m             should_run_agent_start_hooks=should_run_agent_start_hooks,\n\u001b[32m    235\u001b[39m             tool_use_tracker=tool_use_tracker,\n\u001b[32m    236\u001b[39m             previous_response_id=previous_response_id,\n\u001b[32m    237\u001b[39m         ),\n\u001b[32m    238\u001b[39m     )\n\u001b[32m    239\u001b[39m \u001b[38;5;28;01melse\u001b[39;00m:\n\u001b[32m    240\u001b[39m     turn_result = \u001b[38;5;28;01mawait\u001b[39;00m \u001b[38;5;28mcls\u001b[39m._run_single_turn(\n\u001b[32m    241\u001b[39m         agent=current_agent,\n\u001b[32m    242\u001b[39m         all_tools=all_tools,\n\u001b[32m   (...)\u001b[39m\u001b[32m    250\u001b[39m         previous_response_id=previous_response_id,\n\u001b[32m    251\u001b[39m     )\n",
      "\u001b[36mFile \u001b[39m\u001b[32m/Library/Frameworks/Python.framework/Versions/3.11/lib/python3.11/asyncio/tasks.py:349\u001b[39m, in \u001b[36mTask.__wakeup\u001b[39m\u001b[34m(self, future)\u001b[39m\n\u001b[32m    347\u001b[39m \u001b[38;5;28;01mdef\u001b[39;00m\u001b[38;5;250m \u001b[39m\u001b[34m__wakeup\u001b[39m(\u001b[38;5;28mself\u001b[39m, future):\n\u001b[32m    348\u001b[39m     \u001b[38;5;28;01mtry\u001b[39;00m:\n\u001b[32m--> \u001b[39m\u001b[32m349\u001b[39m         \u001b[43mfuture\u001b[49m\u001b[43m.\u001b[49m\u001b[43mresult\u001b[49m\u001b[43m(\u001b[49m\u001b[43m)\u001b[49m\n\u001b[32m    350\u001b[39m     \u001b[38;5;28;01mexcept\u001b[39;00m \u001b[38;5;167;01mBaseException\u001b[39;00m \u001b[38;5;28;01mas\u001b[39;00m exc:\n\u001b[32m    351\u001b[39m         \u001b[38;5;66;03m# This may also be a cancellation.\u001b[39;00m\n\u001b[32m    352\u001b[39m         \u001b[38;5;28mself\u001b[39m.__step(exc)\n",
      "\u001b[36mFile \u001b[39m\u001b[32m/Library/Frameworks/Python.framework/Versions/3.11/lib/python3.11/asyncio/tasks.py:277\u001b[39m, in \u001b[36mTask.__step\u001b[39m\u001b[34m(***failed resolving arguments***)\u001b[39m\n\u001b[32m    273\u001b[39m \u001b[38;5;28;01mtry\u001b[39;00m:\n\u001b[32m    274\u001b[39m     \u001b[38;5;28;01mif\u001b[39;00m exc \u001b[38;5;129;01mis\u001b[39;00m \u001b[38;5;28;01mNone\u001b[39;00m:\n\u001b[32m    275\u001b[39m         \u001b[38;5;66;03m# We use the `send` method directly, because coroutines\u001b[39;00m\n\u001b[32m    276\u001b[39m         \u001b[38;5;66;03m# don't have `__iter__` and `__next__` methods.\u001b[39;00m\n\u001b[32m--> \u001b[39m\u001b[32m277\u001b[39m         result = coro.send(\u001b[38;5;28;01mNone\u001b[39;00m)\n\u001b[32m    278\u001b[39m     \u001b[38;5;28;01melse\u001b[39;00m:\n\u001b[32m    279\u001b[39m         result = coro.throw(exc)\n",
      "\u001b[36mFile \u001b[39m\u001b[32m~/Documents/GitHub/agents-poc/venv/lib/python3.11/site-packages/agents/run.py:857\u001b[39m, in \u001b[36mRunner._run_input_guardrails\u001b[39m\u001b[34m(cls, agent, guardrails, input, context)\u001b[39m\n\u001b[32m    850\u001b[39m         t.cancel()\n\u001b[32m    851\u001b[39m     _error_tracing.attach_error_to_current_span(\n\u001b[32m    852\u001b[39m         SpanError(\n\u001b[32m    853\u001b[39m             message=\u001b[33m\"\u001b[39m\u001b[33mGuardrail tripwire triggered\u001b[39m\u001b[33m\"\u001b[39m,\n\u001b[32m    854\u001b[39m             data={\u001b[33m\"\u001b[39m\u001b[33mguardrail\u001b[39m\u001b[33m\"\u001b[39m: result.guardrail.get_name()},\n\u001b[32m    855\u001b[39m         )\n\u001b[32m    856\u001b[39m     )\n\u001b[32m--> \u001b[39m\u001b[32m857\u001b[39m     \u001b[38;5;28;01mraise\u001b[39;00m InputGuardrailTripwireTriggered(result)\n\u001b[32m    858\u001b[39m \u001b[38;5;28;01melse\u001b[39;00m:\n\u001b[32m    859\u001b[39m     guardrail_results.append(result)\n",
      "\u001b[31mInputGuardrailTripwireTriggered\u001b[39m: Guardrail InputGuardrail triggered tripwire"
     ]
    }
   ],
   "source": [
    "await main()"
   ]
  },
  {
   "cell_type": "code",
   "execution_count": null,
   "id": "7a307480-e869-46d6-979b-d31403ee4b7d",
   "metadata": {},
   "outputs": [],
   "source": []
  },
  {
   "cell_type": "code",
   "execution_count": null,
   "id": "66e3921f-cec0-4763-a94e-541115933928",
   "metadata": {},
   "outputs": [],
   "source": [
    "result = Runner.run_sync(kliro_agent, \"Hi Kliro.\")\n",
    "print(result.final_output)"
   ]
  },
  {
   "cell_type": "code",
   "execution_count": 10,
   "id": "2ef82e3a-a609-4f0b-a493-49fbbbba6a57",
   "metadata": {},
   "outputs": [
    {
     "name": "stderr",
     "output_type": "stream",
     "text": [
      "/var/folders/yc/yk794q4d3qj7f5jdv1w0l2tm0000gn/T/ipykernel_20610/525858268.py:11: UserWarning: You have not specified a value for the `type` parameter. Defaulting to the 'tuples' format for chatbot messages, but this is deprecated and will be removed in a future version of Gradio. Please set type='messages' instead, which uses openai-style dictionaries with 'role' and 'content' keys.\n",
      "  chatbot = gr.Chatbot()\n"
     ]
    },
    {
     "name": "stdout",
     "output_type": "stream",
     "text": [
      "* Running on local URL:  http://127.0.0.1:7860\n",
      "\n",
      "To create a public link, set `share=True` in `launch()`.\n"
     ]
    },
    {
     "data": {
      "text/html": [
       "<div><iframe src=\"http://127.0.0.1:7860/\" width=\"100%\" height=\"500\" allow=\"autoplay; camera; microphone; clipboard-read; clipboard-write;\" frameborder=\"0\" allowfullscreen></iframe></div>"
      ],
      "text/plain": [
       "<IPython.core.display.HTML object>"
      ]
     },
     "metadata": {},
     "output_type": "display_data"
    },
    {
     "data": {
      "text/plain": []
     },
     "execution_count": 10,
     "metadata": {},
     "output_type": "execute_result"
    }
   ],
   "source": [
    "import gradio as gr\n",
    "\n",
    "async def kliro_chat(user_message, chat_history=[]):\n",
    "    # call the agent\n",
    "    result = await Runner.run(kliro_agent, user_message)\n",
    "    reply = result.final_output\n",
    "    chat_history = chat_history + [(user_message, reply)]\n",
    "    return chat_history, chat_history\n",
    "\n",
    "with gr.Blocks() as demo:\n",
    "    chatbot = gr.Chatbot()\n",
    "    state   = gr.State([])\n",
    "    txt     = gr.Textbox(placeholder=\"Type a message and hit enter\")\n",
    "\n",
    "    txt.submit(\n",
    "        kliro_chat, \n",
    "        inputs=[txt, state], \n",
    "        outputs=[chatbot, state]\n",
    "    )\n",
    "\n",
    "demo.launch()"
   ]
  }
 ],
 "metadata": {
  "kernelspec": {
   "display_name": "Python (agents-poc)",
   "language": "python",
   "name": "agents-poc"
  },
  "language_info": {
   "codemirror_mode": {
    "name": "ipython",
    "version": 3
   },
   "file_extension": ".py",
   "mimetype": "text/x-python",
   "name": "python",
   "nbconvert_exporter": "python",
   "pygments_lexer": "ipython3",
   "version": "3.11.6"
  }
 },
 "nbformat": 4,
 "nbformat_minor": 5
}
